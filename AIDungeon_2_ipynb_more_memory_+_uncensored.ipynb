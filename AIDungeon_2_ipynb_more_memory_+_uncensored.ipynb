{
  "nbformat": 4,
  "nbformat_minor": 0,
  "metadata": {
    "colab": {
      "name": "AIDungeon 2.ipynb more memory + uncensored",
      "provenance": [],
      "collapsed_sections": [],
      "machine_shape": "hm",
      "include_colab_link": true
    },
    "kernelspec": {
      "name": "python3",
      "display_name": "Python 3"
    },
    "accelerator": "GPU"
  },
  "cells": [
    {
      "cell_type": "markdown",
      "metadata": {
        "id": "view-in-github",
        "colab_type": "text"
      },
      "source": [
        "<a href=\"https://colab.research.google.com/github/Tarumath/Tarumath-AIDungeon_2_ipynb_more_memory_-_uncensored/blob/master/AIDungeon_2_ipynb_more_memory_%2B_uncensored.ipynb\" target=\"_parent\"><img src=\"https://colab.research.google.com/assets/colab-badge.svg\" alt=\"Open In Colab\"/></a>"
      ]
    },
    {
      "cell_type": "markdown",
      "metadata": {
        "id": "7dRi_BDWErNf",
        "colab_type": "text"
      },
      "source": [
        "# AI Dungeon 2\n",
        "AI Dungeon 2 is a completely AI generated text adventure built with OpenAI's largest GPT-2 model. It's a first of it's kind game that allows you to enter and will react to any action you can imagine. \n",
        "\n",
        "[Read more about how AI Dungeon 2 is made.](https://pcc.cs.byu.edu/2019/11/21/ai-dungeon-2-creating-infinitely-generated-text-adventures-with-deep-learning-language-models/)\n",
        "\n",
        "## How to play\n",
        "1. Click \"Tools\"-> \"Settings...\" -> \"Theme\" -> \"Dark\" (optional but recommended)\n",
        "2. Run \"thislist...\"\n",
        "3. Wait about a minute or two\n",
        "4. It will crash and you will get a popup asking if you want to switch to a high-RAM version\n",
        "5. Run \"!git clone...\"\n",
        "6. It will then take a couple minutes to boot up as the model is downloaded loaded onto the GPU. \n",
        "7. Run from \"Ipytohn.display...\"\n",
        "\n",
        "## Links\n",
        "* While you wait you can [read adventures others have had](https://aidungeon.io/).\n",
        "* If you have any questions or issues feel free to contact me on twitter https://twitter.com/nickwalton00\n",
        "* If you like playing then please consider [supporting](https://www.patreon.com/join/AIDungeon/) me to allow future improvements to AI Dungeon. "
      ]
    },
    {
      "cell_type": "code",
      "metadata": {
        "id": "EGRbE1VoKOpB",
        "colab_type": "code",
        "colab": {}
      },
      "source": [
        "thislist = [\"1\"]\n",
        "while 1:\n",
        " thislist.append(\"1\")"
      ],
      "execution_count": 0,
      "outputs": []
    },
    {
      "cell_type": "code",
      "metadata": {
        "id": "FKqlSCrpS9dH",
        "colab_type": "code",
        "outputId": "2fd7971f-a79a-4913-edbd-8670fe95f37c",
        "colab": {
          "base_uri": "https://localhost:8080/",
          "height": 35
        }
      },
      "source": [
        "!git clone https://github.com/PolarManne/AIDungeon/\n",
        "%cd AIDungeon\n",
        "!./install.sh\n",
        "from IPython.display import clear_output \n",
        "clear_output()\n",
        "print(\"Download Complete!\")"
      ],
      "execution_count": 1,
      "outputs": [
        {
          "output_type": "stream",
          "text": [
            "Download Complete!\n"
          ],
          "name": "stdout"
        }
      ]
    },
    {
      "cell_type": "code",
      "metadata": {
        "id": "YjArwbWh6XwN",
        "colab_type": "code",
        "outputId": "717a98f2-8977-4e6b-9d3f-0d99932456ad",
        "colab": {
          "base_uri": "https://localhost:8080/",
          "height": 597
        }
      },
      "source": [
        "from IPython.display import Javascript\n",
        "display(Javascript('''google.colab.output.setIframeHeight(0, true, {maxHeight: 5000})'''))\n",
        "!python play.py"
      ],
      "execution_count": 0,
      "outputs": [
        {
          "output_type": "display_data",
          "data": {
            "application/javascript": [
              "google.colab.output.setIframeHeight(0, true, {maxHeight: 5000})"
            ],
            "text/plain": [
              "<IPython.core.display.Javascript object>"
            ]
          },
          "metadata": {
            "tags": []
          }
        },
        {
          "output_type": "stream",
          "text": [
            "AI Dungeon 2 will save and use your actions and game to continually improve AI\n",
            " Dungeon. If you would like to disable this enter 'nosaving' for any action.\n",
            " This will also turn off the ability to save games.\n",
            "\n",
            "Initializing AI Dungeon! (This might take a few minutes)\n",
            "\n",
            "\n",
            "\n",
            "\n",
            " ▄▄▄       ██▓   ▓█████▄  █    ██  ███▄    █   ▄████ ▓█████  ▒█████   ███▄    █    \n",
            "▒████▄    ▓██▒   ▒██▀ ██▌ ██  ▓██▒ ██ ▀█   █  ██▒ ▀█▒▓█   ▀ ▒██▒  ██▒ ██ ▀█   █    \n",
            "▒██  ▀█▄  ▒██▒   ░██   █▌▓██  ▒██░▓██  ▀█ ██▒▒██░▄▄▄░▒███   ▒██░  ██▒▓██  ▀█ ██▒   \n",
            "░██▄▄▄▄██ ░██░   ░▓█▄   ▌▓▓█  ░██░▓██▒  ▐▌██▒░▓█  ██▓▒▓█  ▄ ▒██   ██░▓██▒  ▐▌██▒   \n",
            " ▓█   ▓██▒░██░   ░▒████▓ ▒▒█████▓ ▒██░   ▓██░░▒▓███▀▒░▒████▒░ ████▓▒░▒██░   ▓██░   \n",
            " ▒▒   ▓▒█░░▓      ▒▒▓  ▒ ░▒▓▒ ▒ ▒ ░ ▒░   ▒ ▒  ░▒   ▒ ░░ ▒░ ░░ ▒░▒░▒░ ░ ▒░   ▒ ▒    \n",
            "  ▒   ▒▒ ░ ▒ ░    ░ ▒  ▒ ░░▒░ ░ ░ ░ ░░   ░ ▒░  ░   ░  ░ ░  ░  ░ ▒ ▒░ ░ ░░   ░ ▒░   \n",
            "  ░   ▒    ▒ ░    ░ ░  ░  ░░░ ░ ░    ░   ░ ░ ░ ░   ░    ░   ░ ░ ░ ▒     ░   ░ ░    \n",
            "      ░  ░ ░        ░       ░              ░       ░    ░  ░    ░ ░           ░    \n",
            "                  ░                                                                \n",
            "\n",
            "\n",
            "\n",
            "\n",
            "Pick a setting.\n",
            "0) fantasy (recommended)\n",
            "1) mystery\n",
            "2) apocalyptic\n",
            "3) zombies\n",
            "4) custom\n",
            "Enter the number of your choice: "
          ],
          "name": "stdout"
        }
      ]
    }
  ]
}